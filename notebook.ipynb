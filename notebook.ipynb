{
 "cells": [
  {
   "cell_type": "markdown",
   "metadata": {},
   "source": [
    "Below is the code to run the vision trainer"
   ]
  },
  {
   "cell_type": "code",
   "execution_count": 4,
   "metadata": {},
   "outputs": [],
   "source": [
    "config = \"using_camera_config.yaml\"\n",
    "num_envs = 8\n",
    "exe = \"carexe\" \n",
    "run_id = \"using_camera1\""
   ]
  },
  {
   "cell_type": "markdown",
   "metadata": {},
   "source": [
    "mlagents-learn Config/using_camera_config.yaml --env=carexe --run-id=using_camera1 --num-envs=8 --resume"
   ]
  }
 ],
 "metadata": {
  "kernelspec": {
   "display_name": "venv",
   "language": "python",
   "name": "python3"
  },
  "language_info": {
   "codemirror_mode": {
    "name": "ipython",
    "version": 3
   },
   "file_extension": ".py",
   "mimetype": "text/x-python",
   "name": "python",
   "nbconvert_exporter": "python",
   "pygments_lexer": "ipython3",
   "version": "3.10.12"
  }
 },
 "nbformat": 4,
 "nbformat_minor": 2
}
